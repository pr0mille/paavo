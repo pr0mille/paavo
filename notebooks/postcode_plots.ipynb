{
 "cells": [
  {
   "cell_type": "markdown",
   "metadata": {},
   "source": []
  },
  {
   "cell_type": "code",
   "execution_count": 1,
   "metadata": {},
   "outputs": [],
   "source": [
    "from itertools import chain\n",
    "import pandas as pd\n",
    "import data_transforms\n",
    "import from_r_gen\n",
    "import viz\n",
    "import similarity\n",
    "import map_fi_plot\n",
    "import matplotlib.pyplot as plt\n",
    "%matplotlib inline\n",
    "import os\n",
    "filepath_prefix = ''\n",
    "os.chdir('../')"
   ]
  },
  {
   "cell_type": "code",
   "execution_count": null,
   "metadata": {},
   "outputs": [],
   "source": [
    "data = from_r_gen.load_r_data(filepath_prefix + 'paavo_counts.csv')\n",
    "data2 = from_r_gen.load_r_data(filepath_prefix + 'paavo_shares.csv')\n",
    "\n",
    "#combine nominal and share vars\n",
    "data = data.loc[:, list(chain.from_iterable([['pono', 'pono.level', 'vuosi', 'nimi'], data_transforms.NOMINAL_VARS]))]\n",
    "data2 = data2.loc[:, list(chain.from_iterable([['pono', 'vuosi', 'nimi'], data_transforms.SHARES_VARS]))]\n",
    "\n",
    "\n",
    "cols_to_use = data2.columns.difference(data.columns)\n",
    "data = pd.merge(data, data2[cols_to_use], left_index=True, right_index=True, how='outer')\n",
    "data = data.reindex()\n",
    "\n",
    "data.loc[data['pono.level'] == 5, 'pono'] = [format(x, '05d') for x in data.loc[data['pono.level'] == 5, 'pono']]\n",
    "data.loc[data['pono.level'] == 3, 'pono'] = [format(x*100, '05d') for x in data.loc[data['pono.level'] == 3, 'pono']]\n",
    "data.loc[data['pono.level'] == 2, 'pono'] = [format(x*100, '05d') for x in data.loc[data['pono.level'] == 2, 'pono']]\n",
    "\n",
    "\n",
    "to_format = ['he_kika', 'tr_mtu', 'ra_as_kpa', 'hr_pi_tul', 'hr_ke_tul', 'hr_hy_tul',\n",
    "             'pt_tyoll', 'pt_tyott', 'pt_tyovu', 'pt_0_14', 'pt_opisk', 'pt_elakel', 'hr_ovy',\n",
    "             'tr_pi_tul', 'tr_ke_tul', 'tr_hy_tul', 'te_nuor', 'te_eil_np', 'te_laps', 'te_aik',\n",
    "             'te_elak', 'te_omis_as', 'te_vuok_as', 'te_takk', 'te_as_valj']\n",
    "for c in to_format:\n",
    "    data[c] = [float(str(x).replace(\",\", \".\")) for x in data[c]]\n",
    "\n",
    "\n",
    "data.fillna(0, inplace=True)\n",
    "\n",
    "#select only one year\n",
    "data = data.loc[data['vuosi'] == 2018, :]"
   ]
  },
  {
   "cell_type": "markdown",
   "metadata": {},
   "source": [
    "Ok, data has been loaded."
   ]
  },
  {
   "cell_type": "markdown",
   "metadata": {},
   "source": [
    "Let's do an exploration of PCA variancee explanation, to see how many dimensions we might want to use."
   ]
  },
  {
   "cell_type": "code",
   "execution_count": null,
   "metadata": {},
   "outputs": [],
   "source": [
    "X, y, target_names = viz.get_pca_data(data, 2018, 5)\n",
    "target_names.index = range(len(target_names))\n",
    "viz.exploratory_pca(X, 20)"
   ]
  },
  {
   "cell_type": "markdown",
   "metadata": {},
   "source": [
    "Well, based on the plot it looks like we might need quite a few dimensions to capture the variance! I was expecting the data to reduce to fewer dimensions quite nicely, but perhaps not. Let's plot a two-factor PCA to see what it looks like:"
   ]
  },
  {
   "cell_type": "code",
   "execution_count": null,
   "metadata": {},
   "outputs": [],
   "source": [
    "X_pca, pipe = viz.do_pca(X, 2)\n",
    "viz.pca_plot(X_pca, target_names, y.ravel())"
   ]
  },
  {
   "cell_type": "markdown",
   "metadata": {},
   "source": [
    "Yeah, it really looks like there is some structure in the data that is not captured in the two dimensions."
   ]
  },
  {
   "cell_type": "code",
   "execution_count": null,
   "metadata": {},
   "outputs": [],
   "source": [
    "X_pca, pipe = viz.do_pca(X, 2)\n",
    "data_l2 = data.loc[data['pono.level'] == 5, :].assign(max_factor=pd.DataFrame(X_pca.argmax(axis=1)))\n",
    "map_fi_plot.map_fi_postinumero(data_l2, \"Highest factors per area\", color_var='max_factor')\n"
   ]
  },
  {
   "cell_type": "markdown",
   "metadata": {},
   "source": [
    "It's not that great, is it. All the cities have the same max loading factor, but there are a ton of other areas with the same property, too. I'm guessing we could do better.\n",
    "\n",
    "Let's try with five dimensions."
   ]
  },
  {
   "cell_type": "code",
   "execution_count": null,
   "metadata": {},
   "outputs": [],
   "source": [
    "X_pca, pipe = viz.do_pca(X, 5)\n",
    "data_l5 = data.loc[data['pono.level'] == 5, :].assign(max_factor=pd.DataFrame(X_pca.argmax(axis=1)))\n",
    "map_fi_plot.map_fi_postinumero(data_l5, \"Highest factors per area\", color_var='max_factor')"
   ]
  },
  {
   "cell_type": "markdown",
   "metadata": {},
   "source": [
    "Excellent! This looks much better already! It seems that five dimensions are enough to capture the differences between cities, their surrounding boroughs, and the countryside."
   ]
  },
  {
   "cell_type": "markdown",
   "metadata": {},
   "source": [
    "The functions also allow for printing and plotting postcode areas that are \"most similar\" to a given postcode area. For example, which areas are most similar to Otaniemi?"
   ]
  },
  {
   "cell_type": "code",
   "execution_count": null,
   "metadata": {},
   "outputs": [],
   "source": [
    "d = similarity.pairwise_distances(X_pca, X_pca, 'euclidean')\n",
    "names = similarity.get_n_most_similar_with_name(\"Otaniemi\", d, target_names, 15)\n",
    "print(names)"
   ]
  },
  {
   "cell_type": "code",
   "execution_count": null,
   "metadata": {},
   "outputs": [],
   "source": [
    "map_fi_plot.map_with_highlights_names(data_l5, \"15 areas most similar to Otaniemi\", 'Otaniemi', names)\n"
   ]
  },
  {
   "cell_type": "markdown",
   "metadata": {},
   "source": [
    "All the areas above are at leas plausible on their face: each postcode area is somewhat close to a University."
   ]
  },
  {
   "cell_type": "markdown",
   "metadata": {},
   "source": []
  },
  {
   "cell_type": "code",
   "execution_count": null,
   "metadata": {},
   "outputs": [],
   "source": [
    "names = similarity.get_n_most_similar_with_name(\"Kallio\", d, target_names, 15)\n",
    "print(names)"
   ]
  },
  {
   "cell_type": "code",
   "execution_count": null,
   "metadata": {},
   "outputs": [],
   "source": [
    "map_fi_plot.map_with_highlights_names(data_l5, \"15 areas most similar to Kallio\", 'Kallio', names)"
   ]
  },
  {
   "cell_type": "markdown",
   "metadata": {},
   "source": [
    "This result is maybe a little bit more surprising. We get areas close in geography, like Sörnäinen and Alppila, and also some central areas of other cities. But there is also Kamppi (dense city but richer) and Kirkonkylä from Vantaa. Lastly, a close match is the factory district of Pitäjänmäki, no idea why."
   ]
  },
  {
   "cell_type": "code",
   "execution_count": null,
   "metadata": {},
   "outputs": [],
   "source": []
  }
 ],
 "metadata": {
  "kernelspec": {
   "display_name": "Python 2",
   "language": "python",
   "name": "python2"
  },
  "language_info": {
   "codemirror_mode": {
    "name": "ipython",
    "version": 2
   },
   "file_extension": ".py",
   "mimetype": "text/x-python",
   "name": "python",
   "nbconvert_exporter": "python",
   "pygments_lexer": "ipython2",
   "version": "2.7.6"
  }
 },
 "nbformat": 4,
 "nbformat_minor": 0
}
