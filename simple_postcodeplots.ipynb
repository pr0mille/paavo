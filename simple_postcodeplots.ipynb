{
 "cells": [
  {
   "cell_type": "markdown",
   "metadata": {},
   "source": [
    "This notebook showcases plotting data from the Statistics Finland PAAVO data set."
   ]
  },
  {
   "cell_type": "code",
   "execution_count": 1,
   "metadata": {},
   "outputs": [],
   "source": [
    "import pandas as pd\n",
    "import data_transforms\n",
    "import from_r_gen\n",
    "import viz\n",
    "import similarity\n",
    "import map_fi_plot\n",
    "import matplotlib.pyplot as plt\n",
    "import os\n",
    "os.chdir('/Users/tjpajala/PycharmProjects/paavo')\n",
    "os.getcwd()\n",
    "import ipywidgets as widgets\n",
    "%matplotlib notebook"
   ]
  },
  {
   "cell_type": "code",
   "execution_count": 17,
   "metadata": {},
   "outputs": [
    {
     "name": "stderr",
     "output_type": "stream",
     "text": [
      "/Users/tjpajala/miniconda3/envs/some_env/lib/python3.6/site-packages/IPython/core/interactiveshell.py:2901: DtypeWarning: Columns (11,40,41,62,63) have mixed types. Specify dtype option on import or set low_memory=False.\n  if self.run_code(code, result):\n"
     ]
    },
    {
     "name": "stderr",
     "output_type": "stream",
     "text": [
      "/Users/tjpajala/miniconda3/envs/some_env/lib/python3.6/site-packages/IPython/core/interactiveshell.py:2901: DtypeWarning: Columns (9,18,19,40,41) have mixed types. Specify dtype option on import or set low_memory=False.\n  if self.run_code(code, result):\n/Users/tjpajala/miniconda3/envs/some_env/lib/python3.6/site-packages/pandas/core/indexing.py:1472: FutureWarning: \nPassing list-likes to .loc or [] with any missing label will raise\nKeyError in the future, you can use .reindex() as an alternative.\n\nSee the documentation here:\nhttps://pandas.pydata.org/pandas-docs/stable/indexing.html#deprecate-loc-reindex-listlike\n  return self._getitem_tuple(key)\n"
     ]
    }
   ],
   "source": [
    "\n",
    "data = from_r_gen.load_r_data('paavo_counts.csv')\n",
    "data2 = from_r_gen.load_r_data('paavo_shares.csv')\n",
    "\n",
    "data = data_transforms.merge_and_clean_data(data, data2)\n",
    "\n",
    "#save aggregated to different df\n",
    "data_agg = data.loc[data[\"pono.level\"] != 5, :]\n",
    "data = data.loc[data['pono.level'] == 5, :]\n",
    "\n",
    "for column_to_impute in data.columns.values:\n",
    "    if column_to_impute not in ['pono', 'pono.level', 'vuosi', 'nimi']:\n",
    "        data.loc[data[column_to_impute].isnull(), column_to_impute] = data_transforms.\\\n",
    "            impute_with_class_mean(data, column_to_impute)\n",
    "\n",
    "\n",
    "#select only one year\n",
    "data = data.loc[data['vuosi'] == 2018, :]\n",
    "\n",
    "#select only individual postcode areas\n",
    "data = data.loc[data['pono.level'] == 5, :]"
   ]
  },
  {
   "cell_type": "code",
   "execution_count": 18,
   "metadata": {},
   "outputs": [
    {
     "name": "stdout",
     "output_type": "stream",
     "text": [
      "(3030,)\n(3030, 5)\n"
     ]
    }
   ],
   "source": [
    "X, y, target_names = viz.get_pca_data(data, 2018, 5)\n",
    "target_names.index = range(len(target_names))\n",
    "X_pca, pipe = viz.do_pca(X, 5)\n",
    "d = similarity.pairwise_distances(X_pca, X_pca, 'euclidean')"
   ]
  },
  {
   "cell_type": "markdown",
   "metadata": {},
   "source": [
    "Ok, data has been loaded."
   ]
  },
  {
   "cell_type": "code",
   "execution_count": 20,
   "metadata": {},
   "outputs": [],
   "source": [
    "def get_similar_in_table(data, orig_name, comparison_names, target_names, X_pca, cols):\n",
    "    return viz.table_similar_with_names(data, orig_name, comparison_names, target_names, X_pca, cols=None)\n",
    "\n",
    "\n",
    "def get_data_interactive(data, postcode):\n",
    "    cols = ['pono','nimi']+data_transforms.NOMINAL_VARS+data_transforms.SHARES_VARS\n",
    "    if postcode != '':\n",
    "        return data.loc[data['pono'].str.contains(postcode), cols].sort_values('pono')\n",
    "\n",
    "s=[('','')]+[(str(data.iloc[i,:]['pono']+' '+data.iloc[i,:]['nimi']), data.iloc[i,:]['nimi']) for i in range(len(data))]\n",
    "\n",
    "from IPython.display import display, clear_output\n",
    "\n",
    "def get_map_plot(data, postcode):\n",
    "    area_name = data.loc[data['pono']==postcode, 'nimi'].tolist()[0]\n",
    "    print(area_name)\n",
    "    if area_name != '':\n",
    "        highlights = similarity.get_n_most_similar_with_name(area_name,d,target_names,15)\n",
    "        map_fi_plot.map_with_highlights_names(data, \"Most similar to {}\".format(area_name), origin_name=area_name, \n",
    "                                          highlights=highlights, figsize=(12,10))\n",
    "\n",
    "def render_elements(data, postcode):\n",
    "    area_name = data.loc[data['pono'] == postcode, 'nimi'].tolist()[0]\n",
    "    highlights = similarity.get_n_most_similar_with_name(area_name, d, target_names, 15)\n",
    "    all_names = highlights.tolist()\n",
    "    all_names.append(area_name)\n",
    "    all_postcodes=data.loc[data['nimi'].isin(all_names), 'pono']\n",
    "    with out:\n",
    "        display(get_map_plot(data, field.value))\n",
    "    out.clear_output(wait=True)\n",
    "    with out_table:\n",
    "        display(get_similar_in_table(data, area_name, highlights,target_names, X_pca, cols=None))\n",
    "    out_table.clear_output(wait=True)\n",
    "\n",
    "\n",
    "def on_button_click(sender):\n",
    "    render_elements(data, field.value)\n",
    "    \n",
    "\n",
    "def on_field_submit(sender):\n",
    "    render_elements(data, field.value)"
   ]
  },
  {
   "cell_type": "code",
   "execution_count": 21,
   "metadata": {},
   "outputs": [
    {
     "data": {
      "text/plain": [
       "Text(value='', description='postinumero')"
      ]
     },
     "execution_count": 0,
     "metadata": {},
     "output_type": "execute_result"
    },
    {
     "data": {
      "text/plain": [
       "Button(description='Laske', style=ButtonStyle())"
      ]
     },
     "execution_count": 0,
     "metadata": {},
     "output_type": "execute_result"
    },
    {
     "data": {
      "text/plain": [
       "VBox(children=(Output(layout=Layout(border='1px solid black')), Output(layout=Layout(border='1px solid black')…"
      ]
     },
     "execution_count": 0,
     "metadata": {},
     "output_type": "execute_result"
    }
   ],
   "source": [
    "field = widgets.Text(description=\"postinumero\")\n",
    "field.on_submit(on_field_submit)\n",
    "button = widgets.Button(description='Laske')\n",
    "out_table = widgets.Output(layout={'border': '1px solid black'})\n",
    "out = widgets.Output(layout={'border': '1px solid black'})\n",
    "out_pca = widgets.Output(layout={'border': '1px solid black'})\n",
    "button.on_click(on_button_click)\n",
    "display(field)\n",
    "display(button)\n",
    "widgets.VBox([out_table, out])"
   ]
  },
  {
   "cell_type": "markdown",
   "metadata": {},
   "source": [
    "We can also analyze areas according to geographical region. The implemented function can either present results inside a certain region around a target (method='intersection') or outside the defined sphere (method='difference'). These reprepresent the use cases of moving close to a certain target, or \"anywhere besides here\", respectively."
   ]
  },
  {
   "cell_type": "code",
   "execution_count": null,
   "metadata": {},
   "outputs": [],
   "source": [
    "area_name = \"Otaniemi\"\n",
    "target_city = \"Tampere Keskus\"\n",
    "range_km = 50\n",
    "n_alternatives = 10"
   ]
  },
  {
   "cell_type": "code",
   "execution_count": 22,
   "metadata": {},
   "outputs": [
    {
     "ename": "TypeError",
     "evalue": "plot_similar_in_geo_area() got an unexpected keyword argument 'figsize'",
     "traceback": [
      "\u001b[0;31m---------------------------------------------------------------------------\u001b[0m",
      "\u001b[0;31mTypeError\u001b[0m                                 Traceback (most recent call last)",
      "\u001b[0;32m<ipython-input-22-bdcf99bf2ac6>\u001b[0m in \u001b[0;36m<module>\u001b[0;34m()\u001b[0m\n\u001b[1;32m      1\u001b[0m \u001b[0;34m\u001b[0m\u001b[0m\n\u001b[1;32m      2\u001b[0m map_fi_plot.plot_similar_in_geo_area(data, orig_name='Vattuniemi', target='Jyväskylä Keskus', range_km=70,\n\u001b[0;32m----> 3\u001b[0;31m                                      how='intersection', n_most=15, pipe=pipe, figsize=(12, 10))\n\u001b[0m",
      "\u001b[0;31mTypeError\u001b[0m: plot_similar_in_geo_area() got an unexpected keyword argument 'figsize'"
     ],
     "output_type": "error"
    }
   ],
   "source": [
    "\n",
    "map_fi_plot.plot_similar_in_geo_area(data, orig_name=area_name, target=target_city, range_km=range_km,\n",
    "                                     how='intersection', n_most=n_alternatives, pipe=pipe, figsize=(12, 10))"
   ]
  },
  {
   "cell_type": "markdown",
   "metadata": {},
   "source": [
    "The requested areas similar to Vattuniemi are clustered around Jyväskylä, as they should be. "
   ]
  },
  {
   "cell_type": "code",
   "execution_count": 12,
   "metadata": {},
   "outputs": [
    {
     "data": {
      "text/plain": [
       "<IPython.core.display.Javascript object>"
      ]
     },
     "execution_count": 0,
     "metadata": {},
     "output_type": "execute_result"
    },
    {
     "data": {
      "text/html": [
       "<div id='594d7a7c-5250-40d6-a604-466a9f30ca81'></div>"
      ],
      "text/plain": [
       "<div id='594d7a7c-5250-40d6-a604-466a9f30ca81'></div>"
      ]
     },
     "execution_count": 0,
     "metadata": {},
     "output_type": "execute_result"
    }
   ],
   "source": [
    "map_fi_plot.plot_similar_in_geo_area(data, orig_name=area_name, target=area_name, range_km=100,\n",
    "                                     how='difference', n_most=n_alternatives, pipe=pipe, figsize=(12, 10))"
   ]
  },
  {
   "cell_type": "markdown",
   "metadata": {},
   "source": [
    "Getting areas at least 100 km away from Vattuniemi spread the alternatives more across Finland. This suggests (as expected) that similar areas are not just clustered around Jyväskylä - indeed, they seem to be more in the western regions."
   ]
  },
  {
   "cell_type": "markdown",
   "metadata": {},
   "source": [
    "Now, an interesting way of looking at the results is to plot them on the map of postcodes. We will classify each area according to the factor that has the highest load, and plot this variable on the map. If our PCA is good at compressing differences between cities and the countryside into the loadings, this should be visible on the map."
   ]
  },
  {
   "cell_type": "code",
   "execution_count": 14,
   "metadata": {},
   "outputs": [
    {
     "data": {
      "text/plain": [
       "<IPython.core.display.Javascript object>"
      ]
     },
     "execution_count": 0,
     "metadata": {},
     "output_type": "execute_result"
    },
    {
     "data": {
      "text/html": [
       "<div id='bd9f5296-5a96-4d89-bfcf-eed128e53e44'></div>"
      ],
      "text/plain": [
       "<div id='bd9f5296-5a96-4d89-bfcf-eed128e53e44'></div>"
      ]
     },
     "execution_count": 0,
     "metadata": {},
     "output_type": "execute_result"
    }
   ],
   "source": [
    "data_l5 = data.loc[data['pono.level'] == 5, :].assign(max_factor=pd.DataFrame(X_pca.argmax(axis=1)))\n",
    "map_fi_plot.map_fi_postinumero(data_l5, \"Highest factors per area\", color_var='max_factor')"
   ]
  }
 ],
 "metadata": {
  "kernelspec": {
   "display_name": "Python 3",
   "language": "python",
   "name": "python3"
  },
  "language_info": {
   "codemirror_mode": {
    "name": "ipython",
    "version": 3
   },
   "file_extension": ".py",
   "mimetype": "text/x-python",
   "name": "python",
   "nbconvert_exporter": "python",
   "pygments_lexer": "ipython3",
   "version": "3.6.6"
  },
  "toc": {
   "base_numbering": 1.0,
   "nav_menu": {},
   "number_sections": false,
   "sideBar": false,
   "skip_h1_title": false,
   "title_cell": "Table of Contents",
   "title_sidebar": "Contents",
   "toc_cell": false,
   "toc_position": {},
   "toc_section_display": false,
   "toc_window_display": false
  }
 },
 "nbformat": 4,
 "nbformat_minor": 1
}
